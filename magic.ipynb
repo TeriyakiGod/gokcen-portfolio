{
 "cells": [
  {
   "cell_type": "code",
   "execution_count": 2,
   "metadata": {},
   "outputs": [],
   "source": [
    "from PIL import Image\n",
    "\n",
    "# Import image\n",
    "img = Image.open('favicon.png')\n",
    "# Size down the image to 16x16\n",
    "img = img.resize((16, 16))\n",
    "# Save the image as favicon.ico\n",
    "img.save('favicon.ico')"
   ]
  },
  {
   "cell_type": "code",
   "execution_count": 2,
   "metadata": {},
   "outputs": [],
   "source": [
    "import os\n",
    "from PIL import Image\n",
    "\n",
    "# Get all files in the current directory\n",
    "files = os.listdir()\n",
    "\n",
    "# Filter out png and jpg files\n",
    "files = [file for file in files if file.endswith('.webp') or file.endswith('.JPG')]\n",
    "# Loop through all files\n",
    "for i in range(len(files)):\n",
    "    # Open the image\n",
    "    img = Image.open(files[i])\n",
    "    # Save the image as a webp file and change name to img0.webp\n",
    "    img.save(f'img{i}.jpg')\n",
    "    # delete the original image\n",
    "    os.remove(files[i])\n",
    "    \n"
   ]
  },
  {
   "cell_type": "code",
   "execution_count": null,
   "metadata": {},
   "outputs": [],
   "source": [
    "\"\""
   ]
  }
 ],
 "metadata": {
  "kernelspec": {
   "display_name": ".venv",
   "language": "python",
   "name": "python3"
  },
  "language_info": {
   "codemirror_mode": {
    "name": "ipython",
    "version": 3
   },
   "file_extension": ".py",
   "mimetype": "text/x-python",
   "name": "python",
   "nbconvert_exporter": "python",
   "pygments_lexer": "ipython3",
   "version": "3.12.2"
  }
 },
 "nbformat": 4,
 "nbformat_minor": 2
}
